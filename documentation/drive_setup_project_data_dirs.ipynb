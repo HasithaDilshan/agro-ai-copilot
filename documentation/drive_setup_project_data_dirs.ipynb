{
 "cells": [
  {
   "cell_type": "code",
   "execution_count": null,
   "id": "b4590f8a",
   "metadata": {},
   "outputs": [],
   "source": [
    "# @title 1. Mount Google Drive\n",
    "# This cell mounts your Google Drive to the Colab environment.\n",
    "from google.colab import drive\n",
    "drive.mount('/content/drive')\n",
    "\n",
    "print(\"Google Drive mounted successfully.\")"
   ]
  },
  {
   "cell_type": "code",
   "execution_count": null,
   "id": "604281b9",
   "metadata": {},
   "outputs": [],
   "source": [
    "# @title 2. Define Top-Level Google Drive Project Paths\n",
    "# --- IMPORTANT: CUSTOMIZE THIS PATH ---\n",
    "# This is the single, top-level directory in your Google Drive\n",
    "# where ALL large project data and trained models will reside.\n",
    "# Example: Create a folder named 'AgroAI_Project_Data' directly in your 'My Drive'\n",
    "# and set this variable accordingly.\n",
    "GOOGLE_DRIVE_PROJECT_ROOT = '/content/drive/MyDrive/AgroAI_Project_Data' # <--- CUSTOMIZE THIS!\n",
    "print(f\"Defined Google Drive project root: {GOOGLE_DRIVE_PROJECT_ROOT}\")\n",
    "\n",
    "# Create the main project root in Google Drive if it doesn't exist\n",
    "os.makedirs(GOOGLE_DRIVE_PROJECT_ROOT, exist_ok=True)\n",
    "print(f\"Ensured {GOOGLE_DRIVE_PROJECT_ROOT} exists.\")"
   ]
  },
  {
   "cell_type": "code",
   "execution_count": null,
   "id": "2012d0a0",
   "metadata": {},
   "outputs": [],
   "source": [
    "# @title 3. Create Module-Specific Data & Model Subdirectories in Google Drive\n",
    "# These directories will hold the large, non-Git-versioned data and models for each module.\n",
    "\n",
    "import os\n",
    "\n",
    "# --- Module 1: Edge AI (Image Data, TFLite Models) ---\n",
    "module1_data_dir = os.path.join(GOOGLE_DRIVE_PROJECT_ROOT, 'module1_edge_ai', 'data')\n",
    "module1_models_dir = os.path.join(GOOGLE_DRIVE_PROJECT_ROOT, 'module1_edge_ai', 'trained_models')\n",
    "os.makedirs(module1_data_dir, exist_ok=True)\n",
    "os.makedirs(module1_models_dir, exist_ok=True)\n",
    "print(f\"Created Module 1 data dir: {module1_data_dir}\")\n",
    "print(f\"Created Module 1 models dir: {module1_models_dir}\")\n",
    "\n",
    "# --- Module 2: Knowledge Graph (Text Corpora, FAISS Indexes, KG Dumps) ---\n",
    "module2_data_dir = os.path.join(GOOGLE_DRIVE_PROJECT_ROOT, 'module2_knowledge_graph', 'data')\n",
    "module2_models_dir = os.path.join(GOOGLE_DRIVE_PROJECT_ROOT, 'module2_knowledge_graph', 'models') # For FAISS, embedding models\n",
    "os.makedirs(module2_data_dir, exist_ok=True)\n",
    "os.makedirs(module2_models_dir, exist_ok=True)\n",
    "print(f\"Created Module 2 data dir: {module2_data_dir}\")\n",
    "print(f\"Created Module 2 models dir: {module2_models_dir}\")\n",
    "\n",
    "\n",
    "# --- Module 3: Multi-Modal Fusion (Weather/Soil Data, Fused Features, Fusion Models) ---\n",
    "module3_data_dir = os.path.join(GOOGLE_DRIVE_PROJECT_ROOT, 'module3_multimodal_fusion', 'data')\n",
    "module3_models_dir = os.path.join(GOOGLE_DRIVE_PROJECT_ROOT, 'module3_multimodal_fusion', 'trained_models')\n",
    "os.makedirs(module3_data_dir, exist_ok=True)\n",
    "os.makedirs(module3_models_dir, exist_ok=True)\n",
    "print(f\"Created Module 3 data dir: {module3_data_dir}\")\n",
    "print(f\"Created Module 3 models dir: {module3_models_dir}\")\n",
    "\n",
    "\n",
    "# --- Module 4: RL Optimization (Historical Data, Trained RL Agents) ---\n",
    "module4_data_dir = os.path.join(GOOGLE_DRIVE_PROJECT_ROOT, 'module4_rl_optimization', 'data')\n",
    "module4_models_dir = os.path.join(GOOGLE_DRIVE_PROJECT_ROOT, 'module4_rl_optimization', 'trained_agents')\n",
    "os.makedirs(module4_data_dir, exist_ok=True)\n",
    "os.makedirs(module4_models_dir, exist_ok=True)\n",
    "print(f\"Created Module 4 data dir: {module4_data_dir}\")\n",
    "print(f\"Created Module 4 agents dir: {module4_models_dir}\")\n",
    "\n",
    "print(\"\\n--- Google Drive Project Data Structure Setup Complete! ---\")\n",
    "print(\"You can now find these directories in your Google Drive under:\")\n",
    "print(f\"  {GOOGLE_DRIVE_PROJECT_ROOT}\")\n",
    "print(\"\\nSubsequent Colab notebooks should use these paths to store/load large files.\")"
   ]
  },
  {
   "cell_type": "code",
   "execution_count": null,
   "id": "47bf28d5",
   "metadata": {},
   "outputs": [],
   "source": [
    "# @title 4. Output Paths for Subsequent Notebooks (Optional)\n",
    "# This cell can generate code snippets you can copy into other notebooks\n",
    "# to ensure consistent pathing.\n",
    "\n",
    "print(\"\\n--- Code Snippets for Other Colab Notebooks ---\")\n",
    "print(\"Copy these into your other notebooks (e.g., training notebooks) to define data paths:\")\n",
    "print(\"```python\")\n",
    "print(f\"# Assuming Google Drive is mounted at /content/drive\")\n",
    "print(f\"GOOGLE_DRIVE_PROJECT_ROOT = '{GOOGLE_DRIVE_PROJECT_ROOT}'\")\n",
    "print(f\"MODULE1_DRIVE_DATA_DIR = os.path.join(GOOGLE_DRIVE_PROJECT_ROOT, 'module1_edge_ai', 'data')\")\n",
    "print(f\"MODULE1_DRIVE_MODELS_DIR = os.path.join(GOOGLE_DRIVE_PROJECT_ROOT, 'module1_edge_ai', 'trained_models')\")\n",
    "print(f\"MODULE2_DRIVE_DATA_DIR = os.path.join(GOOGLE_DRIVE_PROJECT_ROOT, 'module2_knowledge_graph', 'data')\")\n",
    "print(f\"MODULE2_DRIVE_MODELS_DIR = os.path.join(GOOGLE_DRIVE_PROJECT_ROOT, 'module2_knowledge_graph', 'models')\")\n",
    "print(f\"MODULE3_DRIVE_DATA_DIR = os.path.join(GOOGLE_DRIVE_PROJECT_ROOT, 'module3_multimodal_fusion', 'data')\")\n",
    "print(f\"MODULE3_DRIVE_MODELS_DIR = os.path.join(GOOGLE_DRIVE_PROJECT_ROOT, 'module3_multimodal_fusion', 'trained_models')\")\n",
    "print(f\"MODULE4_DRIVE_DATA_DIR = os.path.join(GOOGLE_DRIVE_PROJECT_ROOT, 'module4_rl_optimization', 'data')\")\n",
    "print(f\"MODULE4_DRIVE_MODELS_DIR = os.path.join(GOOGLE_DRIVE_PROJECT_ROOT, 'module4_rl_optimization', 'trained_agents')\")\n",
    "print(\"```\")"
   ]
  }
 ],
 "metadata": {
  "language_info": {
   "name": "python"
  }
 },
 "nbformat": 4,
 "nbformat_minor": 5
}
